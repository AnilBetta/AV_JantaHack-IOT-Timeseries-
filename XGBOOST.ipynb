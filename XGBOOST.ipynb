{
 "cells": [
  {
   "cell_type": "markdown",
   "metadata": {},
   "source": [
    "# Libraries"
   ]
  },
  {
   "cell_type": "code",
   "execution_count": 1,
   "metadata": {},
   "outputs": [],
   "source": [
    "import numpy as np\n",
    "import pandas as pd\n",
    "pd.set_option('display.max_rows', 500)\n",
    "pd.set_option('display.max_columns', 100)\n",
    "\n",
    "from xgboost import XGBRegressor\n",
    "from xgboost import plot_importance\n",
    "\n",
    "def plot_features(booster, figsize):    \n",
    "    fig, ax = plt.subplots(1,1,figsize=figsize)\n",
    "    return plot_importance(booster=booster, ax=ax)\n",
    "\n",
    "import time"
   ]
  },
  {
   "cell_type": "markdown",
   "metadata": {},
   "source": [
    "# Loading the Data"
   ]
  },
  {
   "cell_type": "code",
   "execution_count": 2,
   "metadata": {},
   "outputs": [],
   "source": [
    "train=pd.read_csv('train.csv',parse_dates=['DateTime'])\n",
    "test=pd.read_csv('test.csv',parse_dates=['DateTime'])\n",
    "sub=pd.read_csv('sub.csv')"
   ]
  },
  {
   "cell_type": "markdown",
   "metadata": {},
   "source": [
    "# Ignoring 2015 Data because we are predicting for months  7,8,9,10 and 2015 data consists of month 11,12 and also Vehicle trend was low during 2015[This Gave us a Boost in Accuracy]. "
   ]
  },
  {
   "cell_type": "code",
   "execution_count": 3,
   "metadata": {},
   "outputs": [],
   "source": [
    "train=train[train['DateTime']>='2016-01-01']"
   ]
  },
  {
   "cell_type": "code",
   "execution_count": 4,
   "metadata": {},
   "outputs": [
    {
     "name": "stderr",
     "output_type": "stream",
     "text": [
      "C:\\Users\\ABetta\\AppData\\Local\\Continuum\\anaconda3\\lib\\site-packages\\ipykernel_launcher.py:3: FutureWarning: Sorting because non-concatenation axis is not aligned. A future version\n",
      "of pandas will change to not sort by default.\n",
      "\n",
      "To accept the future behavior, pass 'sort=False'.\n",
      "\n",
      "To retain the current behavior and silence the warning, pass 'sort=True'.\n",
      "\n",
      "  This is separate from the ipykernel package so we can avoid doing imports until\n"
     ]
    }
   ],
   "source": [
    "train['train_or_test']='train'\n",
    "test['train_or_test']='test'\n",
    "df=pd.concat([train,test])"
   ]
  },
  {
   "cell_type": "markdown",
   "metadata": {},
   "source": [
    "# Creating Time Based Feature. This helps to convert timeseries problem as regression problem."
   ]
  },
  {
   "cell_type": "code",
   "execution_count": 5,
   "metadata": {},
   "outputs": [],
   "source": [
    "def create_date_featues(df):\n",
    "\n",
    "    df['Year'] = pd.to_datetime(df['DateTime']).dt.year\n",
    "\n",
    "    df['Month'] = pd.to_datetime(df['DateTime']).dt.month\n",
    "\n",
    "    df['Day'] = pd.to_datetime(df['DateTime']).dt.day\n",
    "\n",
    "    df['Dayofweek'] = pd.to_datetime(df['DateTime']).dt.dayofweek\n",
    "\n",
    "    df['DayOfyear'] = pd.to_datetime(df['DateTime']).dt.dayofyear\n",
    "\n",
    "    df['Week'] = pd.to_datetime(df['DateTime']).dt.week\n",
    "\n",
    "    df['Quarter'] = pd.to_datetime(df['DateTime']).dt.quarter \n",
    "\n",
    "    df['Is_month_start'] = pd.to_datetime(df['DateTime']).dt.is_month_start\n",
    "\n",
    "    df['Is_month_end'] = pd.to_datetime(df['DateTime']).dt.is_month_end\n",
    "\n",
    "    df['Is_quarter_start'] = pd.to_datetime(df['DateTime']).dt.is_quarter_start\n",
    "\n",
    "    df['Is_quarter_end'] = pd.to_datetime(df['DateTime']).dt.is_quarter_end\n",
    "\n",
    "    df['Is_year_start'] = pd.to_datetime(df['DateTime']).dt.is_year_start\n",
    "\n",
    "    df['Is_year_end'] = pd.to_datetime(df['DateTime']).dt.is_year_end\n",
    "\n",
    "    df['Semester'] = np.where(df['Quarter'].isin([1,2]),1,2)\n",
    "\n",
    "    df['Is_weekend'] = np.where(df['Dayofweek'].isin([5,6]),1,0)\n",
    "\n",
    "    df['Is_weekday'] = np.where(df['Dayofweek'].isin([0,1,2,3,4]),1,0)\n",
    "\n",
    "    #df['Days_in_month'] = pd.to_datetime(df['DateTime']).dt.days_in_month\n",
    "    \n",
    "    df['Hour'] = pd.to_datetime(df['DateTime']).dt.hour\n",
    "    \n",
    "    #df['Time'] = [((date.hour*60+(date.minute))*60)+date.second for date in df.DateTime]\n",
    "\n",
    "    return df"
   ]
  },
  {
   "cell_type": "code",
   "execution_count": 6,
   "metadata": {},
   "outputs": [],
   "source": [
    "df=create_date_featues(df)"
   ]
  },
  {
   "cell_type": "markdown",
   "metadata": {},
   "source": [
    "# one hot encoding Junction [Gave us a boost]"
   ]
  },
  {
   "cell_type": "code",
   "execution_count": 7,
   "metadata": {},
   "outputs": [],
   "source": [
    "for col in ['Junction']:\n",
    "    df = pd.get_dummies(df, columns=[col])"
   ]
  },
  {
   "cell_type": "markdown",
   "metadata": {},
   "source": [
    "# Getting back train and test"
   ]
  },
  {
   "cell_type": "code",
   "execution_count": 8,
   "metadata": {},
   "outputs": [
    {
     "name": "stderr",
     "output_type": "stream",
     "text": [
      "C:\\Users\\ABetta\\AppData\\Local\\Continuum\\anaconda3\\lib\\site-packages\\pandas\\core\\frame.py:3940: SettingWithCopyWarning: \n",
      "A value is trying to be set on a copy of a slice from a DataFrame\n",
      "\n",
      "See the caveats in the documentation: http://pandas.pydata.org/pandas-docs/stable/indexing.html#indexing-view-versus-copy\n",
      "  errors=errors)\n"
     ]
    }
   ],
   "source": [
    "train=df.loc[df.train_or_test.isin(['train'])]\n",
    "test=df.loc[df.train_or_test.isin(['test'])]\n",
    "train.drop(columns={'train_or_test'},axis=1,inplace=True)\n",
    "test.drop(columns={'train_or_test'},axis=1,inplace=True)"
   ]
  },
  {
   "cell_type": "markdown",
   "metadata": {},
   "source": [
    " # Log transforming Vehicle to have normal distribution . [Gave us a boost]"
   ]
  },
  {
   "cell_type": "code",
   "execution_count": 9,
   "metadata": {},
   "outputs": [
    {
     "name": "stderr",
     "output_type": "stream",
     "text": [
      "C:\\Users\\ABetta\\AppData\\Local\\Continuum\\anaconda3\\lib\\site-packages\\ipykernel_launcher.py:1: SettingWithCopyWarning: \n",
      "A value is trying to be set on a copy of a slice from a DataFrame.\n",
      "Try using .loc[row_indexer,col_indexer] = value instead\n",
      "\n",
      "See the caveats in the documentation: http://pandas.pydata.org/pandas-docs/stable/indexing.html#indexing-view-versus-copy\n",
      "  \"\"\"Entry point for launching an IPython kernel.\n"
     ]
    }
   ],
   "source": [
    "train['Vehicles']=np.log1p(train['Vehicles'])"
   ]
  },
  {
   "cell_type": "markdown",
   "metadata": {},
   "source": [
    "# First Validation for time period 2017-1,2,3,4. Since test set contains 4 months data to predict."
   ]
  },
  {
   "cell_type": "code",
   "execution_count": 10,
   "metadata": {},
   "outputs": [],
   "source": [
    "train1=train[train['DateTime']<'2017-03-01']\n",
    "val1=train[train['DateTime']>='2017-03-01']"
   ]
  },
  {
   "cell_type": "markdown",
   "metadata": {},
   "source": [
    "# Second Validation for time period 2016-7,8,9,10. For the same timeperiod as test data."
   ]
  },
  {
   "cell_type": "code",
   "execution_count": 11,
   "metadata": {},
   "outputs": [],
   "source": [
    "newtrain=train[train['DateTime']<'2016-11-01']\n",
    "train2=train[train['DateTime']<'2016-07-01']\n",
    "val2=newtrain[newtrain['DateTime']>='2016-07-01']"
   ]
  },
  {
   "cell_type": "markdown",
   "metadata": {},
   "source": [
    "# Same as second validation ,but including 2017-1,2,3,4 data"
   ]
  },
  {
   "cell_type": "code",
   "execution_count": 12,
   "metadata": {},
   "outputs": [],
   "source": [
    "newtrain=train[train['DateTime']>='2017-01-01']\n",
    "train3=pd.concat([train2,newtrain],axis=0)\n",
    "val3=val2.copy()"
   ]
  },
  {
   "cell_type": "code",
   "execution_count": 13,
   "metadata": {},
   "outputs": [
    {
     "name": "stderr",
     "output_type": "stream",
     "text": [
      "C:\\Users\\ABetta\\AppData\\Local\\Continuum\\anaconda3\\lib\\site-packages\\ipykernel_launcher.py:10: SettingWithCopyWarning: \n",
      "A value is trying to be set on a copy of a slice from a DataFrame.\n",
      "Try using .loc[row_indexer,col_indexer] = value instead\n",
      "\n",
      "See the caveats in the documentation: http://pandas.pydata.org/pandas-docs/stable/indexing.html#indexing-view-versus-copy\n",
      "  # Remove the CWD from sys.path while we load stuff.\n"
     ]
    }
   ],
   "source": [
    "def datetounix(df):\n",
    "    # Initialising unixtime list\n",
    "    unixtime = []\n",
    "    \n",
    "    # Running a loop for converting Date to seconds\n",
    "    for date in df['DateTime']:\n",
    "        unixtime.append(time.mktime(date.timetuple()))\n",
    "    \n",
    "    # Replacing Date with unixtime list\n",
    "    df['DateTime'] = unixtime\n",
    "    return(df)\n",
    "train1=datetounix(train1)\n",
    "val1=datetounix(val1)\n",
    "train2=datetounix(train2)\n",
    "val2=datetounix(val2)\n",
    "train3=datetounix(train3)\n",
    "val3=datetounix(val3)\n",
    "\n",
    "train=datetounix(train)\n",
    "test=datetounix(test)"
   ]
  },
  {
   "cell_type": "code",
   "execution_count": 14,
   "metadata": {},
   "outputs": [],
   "source": [
    "x_train1=train1.drop(columns={'ID','Vehicles'},axis=1)\n",
    "y_train1=train1.loc[:,['Vehicles']]\n",
    "\n",
    "x_val1=val1.drop(columns={'ID','Vehicles'},axis=1)\n",
    "y_val1=val1.loc[:,['Vehicles']]"
   ]
  },
  {
   "cell_type": "code",
   "execution_count": 15,
   "metadata": {},
   "outputs": [],
   "source": [
    "x_train2=train2.drop(columns={'ID','Vehicles'},axis=1)\n",
    "y_train2=train2.loc[:,['Vehicles']]\n",
    "\n",
    "x_val2=val2.drop(columns={'ID','Vehicles'},axis=1)\n",
    "y_val2=val2.loc[:,['Vehicles']]"
   ]
  },
  {
   "cell_type": "code",
   "execution_count": 16,
   "metadata": {},
   "outputs": [],
   "source": [
    "x_train3=train3.drop(columns={'ID','Vehicles'},axis=1)\n",
    "y_train3=train3.loc[:,['Vehicles']]\n",
    "\n",
    "x_val3=val3.drop(columns={'ID','Vehicles'},axis=1)\n",
    "y_val3=val3.loc[:,['Vehicles']]"
   ]
  },
  {
   "cell_type": "markdown",
   "metadata": {},
   "source": [
    "# Validating with validation set1."
   ]
  },
  {
   "cell_type": "code",
   "execution_count": 17,
   "metadata": {},
   "outputs": [
    {
     "name": "stdout",
     "output_type": "stream",
     "text": [
      "[10:26:15] WARNING: C:/Jenkins/workspace/xgboost-win64_release_0.90/src/objective/regression_obj.cu:152: reg:linear is now deprecated in favor of reg:squarederror.\n",
      "[0]\tvalidation_0-rmse:2.23535\tvalidation_1-rmse:2.4192\n",
      "Multiple eval metrics have been passed: 'validation_1-rmse' will be used for early stopping.\n",
      "\n",
      "Will train until validation_1-rmse hasn't improved in 100 rounds.\n",
      "[1]\tvalidation_0-rmse:2.01856\tvalidation_1-rmse:2.18894\n",
      "[2]\tvalidation_0-rmse:1.82423\tvalidation_1-rmse:1.97297\n",
      "[3]\tvalidation_0-rmse:1.65321\tvalidation_1-rmse:1.79658\n",
      "[4]\tvalidation_0-rmse:1.49337\tvalidation_1-rmse:1.63132\n",
      "[5]\tvalidation_0-rmse:1.35042\tvalidation_1-rmse:1.49009\n",
      "[6]\tvalidation_0-rmse:1.22189\tvalidation_1-rmse:1.35935\n",
      "[7]\tvalidation_0-rmse:1.10677\tvalidation_1-rmse:1.23878\n",
      "[8]\tvalidation_0-rmse:1.00619\tvalidation_1-rmse:1.13102\n",
      "[9]\tvalidation_0-rmse:0.91335\tvalidation_1-rmse:1.02881\n",
      "[10]\tvalidation_0-rmse:0.830033\tvalidation_1-rmse:0.942832\n",
      "[11]\tvalidation_0-rmse:0.757443\tvalidation_1-rmse:0.859079\n",
      "[12]\tvalidation_0-rmse:0.691821\tvalidation_1-rmse:0.792953\n",
      "[13]\tvalidation_0-rmse:0.633448\tvalidation_1-rmse:0.729297\n",
      "[14]\tvalidation_0-rmse:0.581427\tvalidation_1-rmse:0.672136\n",
      "[15]\tvalidation_0-rmse:0.536744\tvalidation_1-rmse:0.621791\n",
      "[16]\tvalidation_0-rmse:0.49572\tvalidation_1-rmse:0.580776\n",
      "[17]\tvalidation_0-rmse:0.459613\tvalidation_1-rmse:0.54466\n",
      "[18]\tvalidation_0-rmse:0.428228\tvalidation_1-rmse:0.513656\n",
      "[19]\tvalidation_0-rmse:0.400481\tvalidation_1-rmse:0.483153\n",
      "[20]\tvalidation_0-rmse:0.376714\tvalidation_1-rmse:0.455007\n",
      "[21]\tvalidation_0-rmse:0.35584\tvalidation_1-rmse:0.431406\n",
      "[22]\tvalidation_0-rmse:0.338003\tvalidation_1-rmse:0.410975\n",
      "[23]\tvalidation_0-rmse:0.322835\tvalidation_1-rmse:0.392659\n",
      "[24]\tvalidation_0-rmse:0.309871\tvalidation_1-rmse:0.372901\n",
      "[25]\tvalidation_0-rmse:0.298742\tvalidation_1-rmse:0.360201\n",
      "[26]\tvalidation_0-rmse:0.28875\tvalidation_1-rmse:0.349823\n",
      "[27]\tvalidation_0-rmse:0.28049\tvalidation_1-rmse:0.340517\n",
      "[28]\tvalidation_0-rmse:0.273386\tvalidation_1-rmse:0.332755\n",
      "[29]\tvalidation_0-rmse:0.267538\tvalidation_1-rmse:0.323747\n",
      "[30]\tvalidation_0-rmse:0.262363\tvalidation_1-rmse:0.31899\n",
      "[31]\tvalidation_0-rmse:0.258077\tvalidation_1-rmse:0.315609\n",
      "[32]\tvalidation_0-rmse:0.254165\tvalidation_1-rmse:0.311503\n",
      "[33]\tvalidation_0-rmse:0.251356\tvalidation_1-rmse:0.309787\n",
      "[34]\tvalidation_0-rmse:0.248616\tvalidation_1-rmse:0.307822\n",
      "[35]\tvalidation_0-rmse:0.24631\tvalidation_1-rmse:0.306656\n",
      "[36]\tvalidation_0-rmse:0.244127\tvalidation_1-rmse:0.305325\n",
      "[37]\tvalidation_0-rmse:0.24244\tvalidation_1-rmse:0.30503\n",
      "[38]\tvalidation_0-rmse:0.241169\tvalidation_1-rmse:0.3058\n",
      "[39]\tvalidation_0-rmse:0.239742\tvalidation_1-rmse:0.30572\n",
      "[40]\tvalidation_0-rmse:0.238507\tvalidation_1-rmse:0.303727\n",
      "[41]\tvalidation_0-rmse:0.237556\tvalidation_1-rmse:0.301817\n",
      "[42]\tvalidation_0-rmse:0.236759\tvalidation_1-rmse:0.298988\n",
      "[43]\tvalidation_0-rmse:0.236036\tvalidation_1-rmse:0.297915\n",
      "[44]\tvalidation_0-rmse:0.235227\tvalidation_1-rmse:0.297889\n",
      "[45]\tvalidation_0-rmse:0.234532\tvalidation_1-rmse:0.297915\n",
      "[46]\tvalidation_0-rmse:0.234095\tvalidation_1-rmse:0.299188\n",
      "[47]\tvalidation_0-rmse:0.233002\tvalidation_1-rmse:0.297867\n",
      "[48]\tvalidation_0-rmse:0.232366\tvalidation_1-rmse:0.298112\n",
      "[49]\tvalidation_0-rmse:0.231834\tvalidation_1-rmse:0.298473\n",
      "[50]\tvalidation_0-rmse:0.231331\tvalidation_1-rmse:0.298067\n",
      "[51]\tvalidation_0-rmse:0.230604\tvalidation_1-rmse:0.297682\n",
      "[52]\tvalidation_0-rmse:0.230283\tvalidation_1-rmse:0.297452\n",
      "[53]\tvalidation_0-rmse:0.229408\tvalidation_1-rmse:0.298013\n",
      "[54]\tvalidation_0-rmse:0.228535\tvalidation_1-rmse:0.2983\n",
      "[55]\tvalidation_0-rmse:0.228283\tvalidation_1-rmse:0.29732\n",
      "[56]\tvalidation_0-rmse:0.227752\tvalidation_1-rmse:0.297672\n",
      "[57]\tvalidation_0-rmse:0.227216\tvalidation_1-rmse:0.297253\n",
      "[58]\tvalidation_0-rmse:0.226787\tvalidation_1-rmse:0.297179\n",
      "[59]\tvalidation_0-rmse:0.226218\tvalidation_1-rmse:0.297419\n",
      "[60]\tvalidation_0-rmse:0.225478\tvalidation_1-rmse:0.29649\n",
      "[61]\tvalidation_0-rmse:0.22493\tvalidation_1-rmse:0.296751\n",
      "[62]\tvalidation_0-rmse:0.224742\tvalidation_1-rmse:0.296899\n",
      "[63]\tvalidation_0-rmse:0.224362\tvalidation_1-rmse:0.296517\n",
      "[64]\tvalidation_0-rmse:0.224061\tvalidation_1-rmse:0.296368\n",
      "[65]\tvalidation_0-rmse:0.223327\tvalidation_1-rmse:0.29623\n",
      "[66]\tvalidation_0-rmse:0.223055\tvalidation_1-rmse:0.295562\n",
      "[67]\tvalidation_0-rmse:0.222738\tvalidation_1-rmse:0.295462\n",
      "[68]\tvalidation_0-rmse:0.222336\tvalidation_1-rmse:0.295464\n",
      "[69]\tvalidation_0-rmse:0.222063\tvalidation_1-rmse:0.295467\n",
      "[70]\tvalidation_0-rmse:0.221734\tvalidation_1-rmse:0.296103\n",
      "[71]\tvalidation_0-rmse:0.221447\tvalidation_1-rmse:0.295766\n",
      "[72]\tvalidation_0-rmse:0.221045\tvalidation_1-rmse:0.296498\n",
      "[73]\tvalidation_0-rmse:0.220359\tvalidation_1-rmse:0.296877\n",
      "[74]\tvalidation_0-rmse:0.22009\tvalidation_1-rmse:0.296235\n",
      "[75]\tvalidation_0-rmse:0.219833\tvalidation_1-rmse:0.295868\n",
      "[76]\tvalidation_0-rmse:0.219165\tvalidation_1-rmse:0.295944\n",
      "[77]\tvalidation_0-rmse:0.218895\tvalidation_1-rmse:0.295923\n",
      "[78]\tvalidation_0-rmse:0.218468\tvalidation_1-rmse:0.296014\n",
      "[79]\tvalidation_0-rmse:0.218304\tvalidation_1-rmse:0.29619\n",
      "[80]\tvalidation_0-rmse:0.217935\tvalidation_1-rmse:0.296148\n",
      "[81]\tvalidation_0-rmse:0.217796\tvalidation_1-rmse:0.295178\n",
      "[82]\tvalidation_0-rmse:0.217139\tvalidation_1-rmse:0.295312\n",
      "[83]\tvalidation_0-rmse:0.216861\tvalidation_1-rmse:0.295218\n",
      "[84]\tvalidation_0-rmse:0.216623\tvalidation_1-rmse:0.294993\n",
      "[85]\tvalidation_0-rmse:0.216422\tvalidation_1-rmse:0.295135\n",
      "[86]\tvalidation_0-rmse:0.216353\tvalidation_1-rmse:0.295356\n",
      "[87]\tvalidation_0-rmse:0.216208\tvalidation_1-rmse:0.295374\n",
      "[88]\tvalidation_0-rmse:0.216149\tvalidation_1-rmse:0.294487\n",
      "[89]\tvalidation_0-rmse:0.215747\tvalidation_1-rmse:0.294097\n",
      "[90]\tvalidation_0-rmse:0.21557\tvalidation_1-rmse:0.293126\n",
      "[91]\tvalidation_0-rmse:0.215363\tvalidation_1-rmse:0.29353\n",
      "[92]\tvalidation_0-rmse:0.215001\tvalidation_1-rmse:0.293807\n",
      "[93]\tvalidation_0-rmse:0.214359\tvalidation_1-rmse:0.294049\n",
      "[94]\tvalidation_0-rmse:0.214242\tvalidation_1-rmse:0.293793\n",
      "[95]\tvalidation_0-rmse:0.214074\tvalidation_1-rmse:0.294425\n",
      "[96]\tvalidation_0-rmse:0.213957\tvalidation_1-rmse:0.2943\n",
      "[97]\tvalidation_0-rmse:0.213735\tvalidation_1-rmse:0.294311\n",
      "[98]\tvalidation_0-rmse:0.213406\tvalidation_1-rmse:0.295115\n",
      "[99]\tvalidation_0-rmse:0.213237\tvalidation_1-rmse:0.295023\n",
      "[100]\tvalidation_0-rmse:0.213118\tvalidation_1-rmse:0.294805\n",
      "[101]\tvalidation_0-rmse:0.212914\tvalidation_1-rmse:0.295016\n",
      "[102]\tvalidation_0-rmse:0.21277\tvalidation_1-rmse:0.294995\n",
      "[103]\tvalidation_0-rmse:0.212729\tvalidation_1-rmse:0.293902\n",
      "[104]\tvalidation_0-rmse:0.212549\tvalidation_1-rmse:0.294637\n",
      "[105]\tvalidation_0-rmse:0.212512\tvalidation_1-rmse:0.294342\n",
      "[106]\tvalidation_0-rmse:0.212329\tvalidation_1-rmse:0.294146\n",
      "[107]\tvalidation_0-rmse:0.212019\tvalidation_1-rmse:0.29387\n",
      "[108]\tvalidation_0-rmse:0.211947\tvalidation_1-rmse:0.294382\n",
      "[109]\tvalidation_0-rmse:0.211511\tvalidation_1-rmse:0.294451\n",
      "[110]\tvalidation_0-rmse:0.211417\tvalidation_1-rmse:0.2947\n",
      "[111]\tvalidation_0-rmse:0.211142\tvalidation_1-rmse:0.294783\n",
      "[112]\tvalidation_0-rmse:0.210947\tvalidation_1-rmse:0.294893\n",
      "[113]\tvalidation_0-rmse:0.210781\tvalidation_1-rmse:0.294997\n",
      "[114]\tvalidation_0-rmse:0.210664\tvalidation_1-rmse:0.295023\n",
      "[115]\tvalidation_0-rmse:0.210478\tvalidation_1-rmse:0.294943\n",
      "[116]\tvalidation_0-rmse:0.210143\tvalidation_1-rmse:0.295143\n",
      "[117]\tvalidation_0-rmse:0.210079\tvalidation_1-rmse:0.295098\n",
      "[118]\tvalidation_0-rmse:0.210018\tvalidation_1-rmse:0.295737\n",
      "[119]\tvalidation_0-rmse:0.20999\tvalidation_1-rmse:0.295013\n",
      "[120]\tvalidation_0-rmse:0.209773\tvalidation_1-rmse:0.295285\n",
      "[121]\tvalidation_0-rmse:0.209758\tvalidation_1-rmse:0.294534\n",
      "[122]\tvalidation_0-rmse:0.209531\tvalidation_1-rmse:0.294148\n",
      "[123]\tvalidation_0-rmse:0.209409\tvalidation_1-rmse:0.293477\n",
      "[124]\tvalidation_0-rmse:0.209273\tvalidation_1-rmse:0.293448\n",
      "[125]\tvalidation_0-rmse:0.209115\tvalidation_1-rmse:0.29344\n",
      "[126]\tvalidation_0-rmse:0.209017\tvalidation_1-rmse:0.29373\n",
      "[127]\tvalidation_0-rmse:0.208765\tvalidation_1-rmse:0.29377\n",
      "[128]\tvalidation_0-rmse:0.208612\tvalidation_1-rmse:0.293759\n",
      "[129]\tvalidation_0-rmse:0.208175\tvalidation_1-rmse:0.293827\n",
      "[130]\tvalidation_0-rmse:0.208113\tvalidation_1-rmse:0.293181\n",
      "[131]\tvalidation_0-rmse:0.208045\tvalidation_1-rmse:0.293212\n",
      "[132]\tvalidation_0-rmse:0.207911\tvalidation_1-rmse:0.293268\n",
      "[133]\tvalidation_0-rmse:0.207855\tvalidation_1-rmse:0.293285\n"
     ]
    },
    {
     "name": "stdout",
     "output_type": "stream",
     "text": [
      "[134]\tvalidation_0-rmse:0.207742\tvalidation_1-rmse:0.293987\n",
      "[135]\tvalidation_0-rmse:0.207667\tvalidation_1-rmse:0.294466\n",
      "[136]\tvalidation_0-rmse:0.207402\tvalidation_1-rmse:0.294562\n",
      "[137]\tvalidation_0-rmse:0.207188\tvalidation_1-rmse:0.29449\n",
      "[138]\tvalidation_0-rmse:0.207161\tvalidation_1-rmse:0.294458\n",
      "[139]\tvalidation_0-rmse:0.206918\tvalidation_1-rmse:0.294975\n",
      "[140]\tvalidation_0-rmse:0.206902\tvalidation_1-rmse:0.294418\n",
      "[141]\tvalidation_0-rmse:0.206752\tvalidation_1-rmse:0.294296\n",
      "[142]\tvalidation_0-rmse:0.206728\tvalidation_1-rmse:0.294981\n",
      "[143]\tvalidation_0-rmse:0.206436\tvalidation_1-rmse:0.294487\n",
      "[144]\tvalidation_0-rmse:0.206284\tvalidation_1-rmse:0.294494\n",
      "[145]\tvalidation_0-rmse:0.205976\tvalidation_1-rmse:0.294374\n",
      "[146]\tvalidation_0-rmse:0.205672\tvalidation_1-rmse:0.293617\n",
      "[147]\tvalidation_0-rmse:0.205476\tvalidation_1-rmse:0.294219\n",
      "[148]\tvalidation_0-rmse:0.205447\tvalidation_1-rmse:0.293418\n",
      "[149]\tvalidation_0-rmse:0.205292\tvalidation_1-rmse:0.293419\n",
      "[150]\tvalidation_0-rmse:0.205207\tvalidation_1-rmse:0.293347\n",
      "[151]\tvalidation_0-rmse:0.20511\tvalidation_1-rmse:0.293122\n",
      "[152]\tvalidation_0-rmse:0.204942\tvalidation_1-rmse:0.29321\n",
      "[153]\tvalidation_0-rmse:0.204901\tvalidation_1-rmse:0.2938\n",
      "[154]\tvalidation_0-rmse:0.20473\tvalidation_1-rmse:0.29372\n",
      "[155]\tvalidation_0-rmse:0.204471\tvalidation_1-rmse:0.293509\n",
      "[156]\tvalidation_0-rmse:0.204354\tvalidation_1-rmse:0.293537\n",
      "[157]\tvalidation_0-rmse:0.204317\tvalidation_1-rmse:0.294137\n",
      "[158]\tvalidation_0-rmse:0.204292\tvalidation_1-rmse:0.293471\n",
      "[159]\tvalidation_0-rmse:0.204188\tvalidation_1-rmse:0.293592\n",
      "[160]\tvalidation_0-rmse:0.204093\tvalidation_1-rmse:0.292892\n",
      "[161]\tvalidation_0-rmse:0.204071\tvalidation_1-rmse:0.292965\n",
      "[162]\tvalidation_0-rmse:0.204027\tvalidation_1-rmse:0.293041\n",
      "[163]\tvalidation_0-rmse:0.203884\tvalidation_1-rmse:0.293272\n",
      "[164]\tvalidation_0-rmse:0.203807\tvalidation_1-rmse:0.292979\n",
      "[165]\tvalidation_0-rmse:0.203758\tvalidation_1-rmse:0.29247\n",
      "[166]\tvalidation_0-rmse:0.203651\tvalidation_1-rmse:0.292356\n",
      "[167]\tvalidation_0-rmse:0.203619\tvalidation_1-rmse:0.292897\n",
      "[168]\tvalidation_0-rmse:0.203486\tvalidation_1-rmse:0.292627\n",
      "[169]\tvalidation_0-rmse:0.203364\tvalidation_1-rmse:0.292415\n",
      "[170]\tvalidation_0-rmse:0.203289\tvalidation_1-rmse:0.292404\n",
      "[171]\tvalidation_0-rmse:0.203276\tvalidation_1-rmse:0.292109\n",
      "[172]\tvalidation_0-rmse:0.203252\tvalidation_1-rmse:0.292588\n",
      "[173]\tvalidation_0-rmse:0.203233\tvalidation_1-rmse:0.292215\n",
      "[174]\tvalidation_0-rmse:0.203151\tvalidation_1-rmse:0.291653\n",
      "[175]\tvalidation_0-rmse:0.203011\tvalidation_1-rmse:0.292283\n",
      "[176]\tvalidation_0-rmse:0.202922\tvalidation_1-rmse:0.292246\n",
      "[177]\tvalidation_0-rmse:0.202834\tvalidation_1-rmse:0.292266\n",
      "[178]\tvalidation_0-rmse:0.202789\tvalidation_1-rmse:0.292284\n",
      "[179]\tvalidation_0-rmse:0.202423\tvalidation_1-rmse:0.292789\n",
      "[180]\tvalidation_0-rmse:0.202407\tvalidation_1-rmse:0.292262\n",
      "[181]\tvalidation_0-rmse:0.202177\tvalidation_1-rmse:0.292143\n",
      "[182]\tvalidation_0-rmse:0.20213\tvalidation_1-rmse:0.291637\n",
      "[183]\tvalidation_0-rmse:0.202096\tvalidation_1-rmse:0.291294\n",
      "[184]\tvalidation_0-rmse:0.201958\tvalidation_1-rmse:0.291758\n",
      "[185]\tvalidation_0-rmse:0.201769\tvalidation_1-rmse:0.291699\n",
      "[186]\tvalidation_0-rmse:0.201686\tvalidation_1-rmse:0.292243\n",
      "[187]\tvalidation_0-rmse:0.201629\tvalidation_1-rmse:0.29196\n",
      "[188]\tvalidation_0-rmse:0.201612\tvalidation_1-rmse:0.29195\n",
      "[189]\tvalidation_0-rmse:0.201568\tvalidation_1-rmse:0.292217\n",
      "[190]\tvalidation_0-rmse:0.201492\tvalidation_1-rmse:0.292129\n",
      "[191]\tvalidation_0-rmse:0.201416\tvalidation_1-rmse:0.291929\n",
      "[192]\tvalidation_0-rmse:0.201375\tvalidation_1-rmse:0.29258\n",
      "[193]\tvalidation_0-rmse:0.201301\tvalidation_1-rmse:0.292289\n",
      "[194]\tvalidation_0-rmse:0.201271\tvalidation_1-rmse:0.292338\n",
      "[195]\tvalidation_0-rmse:0.20117\tvalidation_1-rmse:0.292317\n",
      "[196]\tvalidation_0-rmse:0.201071\tvalidation_1-rmse:0.292279\n",
      "[197]\tvalidation_0-rmse:0.201054\tvalidation_1-rmse:0.292814\n",
      "[198]\tvalidation_0-rmse:0.20099\tvalidation_1-rmse:0.292584\n",
      "[199]\tvalidation_0-rmse:0.200873\tvalidation_1-rmse:0.292227\n",
      "[200]\tvalidation_0-rmse:0.200858\tvalidation_1-rmse:0.291676\n",
      "[201]\tvalidation_0-rmse:0.200834\tvalidation_1-rmse:0.291272\n",
      "[202]\tvalidation_0-rmse:0.200793\tvalidation_1-rmse:0.29136\n",
      "[203]\tvalidation_0-rmse:0.200744\tvalidation_1-rmse:0.291326\n",
      "[204]\tvalidation_0-rmse:0.200722\tvalidation_1-rmse:0.291783\n",
      "[205]\tvalidation_0-rmse:0.200685\tvalidation_1-rmse:0.291487\n",
      "[206]\tvalidation_0-rmse:0.200647\tvalidation_1-rmse:0.291494\n",
      "[207]\tvalidation_0-rmse:0.200555\tvalidation_1-rmse:0.292215\n",
      "[208]\tvalidation_0-rmse:0.200417\tvalidation_1-rmse:0.292248\n",
      "[209]\tvalidation_0-rmse:0.200238\tvalidation_1-rmse:0.291596\n",
      "[210]\tvalidation_0-rmse:0.20021\tvalidation_1-rmse:0.291342\n",
      "[211]\tvalidation_0-rmse:0.200197\tvalidation_1-rmse:0.291348\n",
      "[212]\tvalidation_0-rmse:0.200153\tvalidation_1-rmse:0.291332\n",
      "[213]\tvalidation_0-rmse:0.200107\tvalidation_1-rmse:0.291399\n",
      "[214]\tvalidation_0-rmse:0.200092\tvalidation_1-rmse:0.291021\n",
      "[215]\tvalidation_0-rmse:0.200049\tvalidation_1-rmse:0.291024\n",
      "[216]\tvalidation_0-rmse:0.199966\tvalidation_1-rmse:0.291106\n",
      "[217]\tvalidation_0-rmse:0.199876\tvalidation_1-rmse:0.291499\n",
      "[218]\tvalidation_0-rmse:0.199795\tvalidation_1-rmse:0.291632\n",
      "[219]\tvalidation_0-rmse:0.199742\tvalidation_1-rmse:0.291615\n",
      "[220]\tvalidation_0-rmse:0.199713\tvalidation_1-rmse:0.29093\n",
      "[221]\tvalidation_0-rmse:0.199592\tvalidation_1-rmse:0.290935\n",
      "[222]\tvalidation_0-rmse:0.199444\tvalidation_1-rmse:0.291134\n",
      "[223]\tvalidation_0-rmse:0.199391\tvalidation_1-rmse:0.29109\n",
      "[224]\tvalidation_0-rmse:0.199301\tvalidation_1-rmse:0.291651\n",
      "[225]\tvalidation_0-rmse:0.199238\tvalidation_1-rmse:0.291669\n",
      "[226]\tvalidation_0-rmse:0.199137\tvalidation_1-rmse:0.291847\n",
      "[227]\tvalidation_0-rmse:0.199088\tvalidation_1-rmse:0.291815\n",
      "[228]\tvalidation_0-rmse:0.199042\tvalidation_1-rmse:0.291702\n",
      "[229]\tvalidation_0-rmse:0.199\tvalidation_1-rmse:0.292128\n",
      "[230]\tvalidation_0-rmse:0.198813\tvalidation_1-rmse:0.292297\n",
      "[231]\tvalidation_0-rmse:0.198718\tvalidation_1-rmse:0.292223\n",
      "[232]\tvalidation_0-rmse:0.198665\tvalidation_1-rmse:0.292216\n",
      "[233]\tvalidation_0-rmse:0.198542\tvalidation_1-rmse:0.29218\n",
      "[234]\tvalidation_0-rmse:0.19833\tvalidation_1-rmse:0.292095\n",
      "[235]\tvalidation_0-rmse:0.198301\tvalidation_1-rmse:0.292088\n",
      "[236]\tvalidation_0-rmse:0.198264\tvalidation_1-rmse:0.29187\n",
      "[237]\tvalidation_0-rmse:0.198207\tvalidation_1-rmse:0.291775\n",
      "[238]\tvalidation_0-rmse:0.198198\tvalidation_1-rmse:0.291745\n",
      "[239]\tvalidation_0-rmse:0.198009\tvalidation_1-rmse:0.291996\n",
      "[240]\tvalidation_0-rmse:0.197994\tvalidation_1-rmse:0.292532\n",
      "[241]\tvalidation_0-rmse:0.197793\tvalidation_1-rmse:0.292597\n",
      "[242]\tvalidation_0-rmse:0.197774\tvalidation_1-rmse:0.292118\n",
      "[243]\tvalidation_0-rmse:0.197713\tvalidation_1-rmse:0.292503\n",
      "[244]\tvalidation_0-rmse:0.197656\tvalidation_1-rmse:0.292502\n",
      "[245]\tvalidation_0-rmse:0.197604\tvalidation_1-rmse:0.293041\n",
      "[246]\tvalidation_0-rmse:0.197525\tvalidation_1-rmse:0.293268\n",
      "[247]\tvalidation_0-rmse:0.19751\tvalidation_1-rmse:0.293293\n",
      "[248]\tvalidation_0-rmse:0.197471\tvalidation_1-rmse:0.293356\n",
      "[249]\tvalidation_0-rmse:0.197384\tvalidation_1-rmse:0.293551\n",
      "[250]\tvalidation_0-rmse:0.197361\tvalidation_1-rmse:0.293059\n",
      "[251]\tvalidation_0-rmse:0.197286\tvalidation_1-rmse:0.292707\n",
      "[252]\tvalidation_0-rmse:0.197276\tvalidation_1-rmse:0.293416\n",
      "[253]\tvalidation_0-rmse:0.197228\tvalidation_1-rmse:0.293358\n",
      "[254]\tvalidation_0-rmse:0.197141\tvalidation_1-rmse:0.29331\n",
      "[255]\tvalidation_0-rmse:0.197071\tvalidation_1-rmse:0.293169\n",
      "[256]\tvalidation_0-rmse:0.196977\tvalidation_1-rmse:0.292927\n",
      "[257]\tvalidation_0-rmse:0.196886\tvalidation_1-rmse:0.292931\n",
      "[258]\tvalidation_0-rmse:0.196841\tvalidation_1-rmse:0.292797\n",
      "[259]\tvalidation_0-rmse:0.196803\tvalidation_1-rmse:0.293272\n",
      "[260]\tvalidation_0-rmse:0.196783\tvalidation_1-rmse:0.293546\n",
      "[261]\tvalidation_0-rmse:0.196744\tvalidation_1-rmse:0.293602\n",
      "[262]\tvalidation_0-rmse:0.19663\tvalidation_1-rmse:0.293781\n",
      "[263]\tvalidation_0-rmse:0.196603\tvalidation_1-rmse:0.293876\n",
      "[264]\tvalidation_0-rmse:0.196553\tvalidation_1-rmse:0.29388\n",
      "[265]\tvalidation_0-rmse:0.196499\tvalidation_1-rmse:0.293904\n",
      "[266]\tvalidation_0-rmse:0.196408\tvalidation_1-rmse:0.293999\n",
      "[267]\tvalidation_0-rmse:0.196363\tvalidation_1-rmse:0.293986\n",
      "[268]\tvalidation_0-rmse:0.196287\tvalidation_1-rmse:0.294244\n",
      "[269]\tvalidation_0-rmse:0.196271\tvalidation_1-rmse:0.294222\n",
      "[270]\tvalidation_0-rmse:0.196124\tvalidation_1-rmse:0.29415\n",
      "[271]\tvalidation_0-rmse:0.195956\tvalidation_1-rmse:0.294208\n"
     ]
    },
    {
     "name": "stdout",
     "output_type": "stream",
     "text": [
      "[272]\tvalidation_0-rmse:0.195942\tvalidation_1-rmse:0.294175\n",
      "[273]\tvalidation_0-rmse:0.195871\tvalidation_1-rmse:0.293702\n",
      "[274]\tvalidation_0-rmse:0.195854\tvalidation_1-rmse:0.293719\n",
      "[275]\tvalidation_0-rmse:0.195785\tvalidation_1-rmse:0.293637\n",
      "[276]\tvalidation_0-rmse:0.195704\tvalidation_1-rmse:0.2939\n",
      "[277]\tvalidation_0-rmse:0.195676\tvalidation_1-rmse:0.294337\n",
      "[278]\tvalidation_0-rmse:0.195637\tvalidation_1-rmse:0.294315\n",
      "[279]\tvalidation_0-rmse:0.195504\tvalidation_1-rmse:0.294281\n",
      "[280]\tvalidation_0-rmse:0.195465\tvalidation_1-rmse:0.294028\n",
      "[281]\tvalidation_0-rmse:0.195313\tvalidation_1-rmse:0.294022\n",
      "[282]\tvalidation_0-rmse:0.19528\tvalidation_1-rmse:0.294081\n",
      "[283]\tvalidation_0-rmse:0.195266\tvalidation_1-rmse:0.294339\n",
      "[284]\tvalidation_0-rmse:0.195249\tvalidation_1-rmse:0.294385\n",
      "[285]\tvalidation_0-rmse:0.195103\tvalidation_1-rmse:0.294311\n",
      "[286]\tvalidation_0-rmse:0.195034\tvalidation_1-rmse:0.294496\n",
      "[287]\tvalidation_0-rmse:0.194865\tvalidation_1-rmse:0.294353\n",
      "[288]\tvalidation_0-rmse:0.194851\tvalidation_1-rmse:0.2944\n",
      "[289]\tvalidation_0-rmse:0.194843\tvalidation_1-rmse:0.294054\n",
      "[290]\tvalidation_0-rmse:0.194789\tvalidation_1-rmse:0.294017\n",
      "[291]\tvalidation_0-rmse:0.194781\tvalidation_1-rmse:0.294265\n",
      "[292]\tvalidation_0-rmse:0.194752\tvalidation_1-rmse:0.294151\n",
      "[293]\tvalidation_0-rmse:0.194691\tvalidation_1-rmse:0.294079\n",
      "[294]\tvalidation_0-rmse:0.194677\tvalidation_1-rmse:0.294434\n",
      "[295]\tvalidation_0-rmse:0.194623\tvalidation_1-rmse:0.294245\n",
      "[296]\tvalidation_0-rmse:0.194597\tvalidation_1-rmse:0.294822\n",
      "[297]\tvalidation_0-rmse:0.194534\tvalidation_1-rmse:0.294637\n",
      "[298]\tvalidation_0-rmse:0.194492\tvalidation_1-rmse:0.29446\n",
      "[299]\tvalidation_0-rmse:0.194468\tvalidation_1-rmse:0.294697\n",
      "[300]\tvalidation_0-rmse:0.194417\tvalidation_1-rmse:0.29493\n",
      "[301]\tvalidation_0-rmse:0.19433\tvalidation_1-rmse:0.294905\n",
      "[302]\tvalidation_0-rmse:0.19426\tvalidation_1-rmse:0.294852\n",
      "[303]\tvalidation_0-rmse:0.194223\tvalidation_1-rmse:0.294857\n",
      "[304]\tvalidation_0-rmse:0.194096\tvalidation_1-rmse:0.294756\n",
      "[305]\tvalidation_0-rmse:0.194004\tvalidation_1-rmse:0.295078\n",
      "[306]\tvalidation_0-rmse:0.193957\tvalidation_1-rmse:0.295038\n",
      "[307]\tvalidation_0-rmse:0.193929\tvalidation_1-rmse:0.29539\n",
      "[308]\tvalidation_0-rmse:0.193913\tvalidation_1-rmse:0.295147\n",
      "[309]\tvalidation_0-rmse:0.193835\tvalidation_1-rmse:0.295435\n",
      "[310]\tvalidation_0-rmse:0.193791\tvalidation_1-rmse:0.295398\n",
      "[311]\tvalidation_0-rmse:0.193774\tvalidation_1-rmse:0.295358\n",
      "[312]\tvalidation_0-rmse:0.193751\tvalidation_1-rmse:0.295674\n",
      "[313]\tvalidation_0-rmse:0.19373\tvalidation_1-rmse:0.295567\n",
      "[314]\tvalidation_0-rmse:0.193669\tvalidation_1-rmse:0.295738\n",
      "[315]\tvalidation_0-rmse:0.193621\tvalidation_1-rmse:0.296099\n",
      "[316]\tvalidation_0-rmse:0.193589\tvalidation_1-rmse:0.295905\n",
      "[317]\tvalidation_0-rmse:0.193576\tvalidation_1-rmse:0.295315\n",
      "[318]\tvalidation_0-rmse:0.193554\tvalidation_1-rmse:0.295301\n",
      "[319]\tvalidation_0-rmse:0.193508\tvalidation_1-rmse:0.295277\n",
      "[320]\tvalidation_0-rmse:0.19349\tvalidation_1-rmse:0.295675\n",
      "Stopping. Best iteration:\n",
      "[220]\tvalidation_0-rmse:0.199713\tvalidation_1-rmse:0.29093\n",
      "\n"
     ]
    },
    {
     "data": {
      "text/plain": [
       "33.85174798965454"
      ]
     },
     "execution_count": 17,
     "metadata": {},
     "output_type": "execute_result"
    }
   ],
   "source": [
    "ts = time.time()\n",
    "\n",
    "model = XGBRegressor(\n",
    "    max_depth=8,\n",
    "    booster = \"gbtree\",\n",
    "    n_estimators=100000,\n",
    "    min_child_weight=300, \n",
    "    colsample_bytree=0.8, \n",
    "    subsample=0.8, \n",
    "    eta=0.3,\n",
    "    seed=42,\n",
    "    objective='reg:linear')\n",
    "\n",
    "model.fit(\n",
    "    x_train1, \n",
    "    y_train1, \n",
    "    eval_metric=\"rmse\", \n",
    "    eval_set=[(x_train1, y_train1), (x_val1, y_val1)], \n",
    "    verbose=True, \n",
    "    early_stopping_rounds = 100)\n",
    "\n",
    "time.time() - ts"
   ]
  },
  {
   "cell_type": "code",
   "execution_count": 18,
   "metadata": {},
   "outputs": [],
   "source": [
    "pred=model.predict(x_val1)"
   ]
  },
  {
   "cell_type": "code",
   "execution_count": 19,
   "metadata": {},
   "outputs": [
    {
     "data": {
      "text/plain": [
       "6.700220427352885"
      ]
     },
     "execution_count": 19,
     "metadata": {},
     "output_type": "execute_result"
    }
   ],
   "source": [
    "from sklearn.metrics import mean_squared_error\n",
    "from math import sqrt\n",
    "np.sqrt(mean_squared_error(np.expm1(y_val1), np.expm1(pred)))"
   ]
  },
  {
   "cell_type": "code",
   "execution_count": 22,
   "metadata": {},
   "outputs": [
    {
     "data": {
      "text/plain": [
       "<matplotlib.axes._subplots.AxesSubplot at 0x187e1e81470>"
      ]
     },
     "execution_count": 22,
     "metadata": {},
     "output_type": "execute_result"
    },
    {
     "data": {
      "image/png": "[encoded data removed]",
      "text/plain": [
       "<Figure size 720x1008 with 1 Axes>"
      ]
     },
     "metadata": {
      "needs_background": "light"
     },
     "output_type": "display_data"
    }
   ],
   "source": [
    "import matplotlib.pyplot as plt\n",
    "%matplotlib inline\n",
    "plot_features(model, (10,14))"
   ]
  },
  {
   "cell_type": "markdown",
   "metadata": {},
   "source": [
    "# Validating with validation set 2."
   ]
  },
  {
   "cell_type": "code",
   "execution_count": 23,
   "metadata": {},
   "outputs": [
    {
     "name": "stdout",
     "output_type": "stream",
     "text": [
      "[10:27:36] WARNING: C:/Jenkins/workspace/xgboost-win64_release_0.90/src/objective/regression_obj.cu:152: reg:linear is now deprecated in favor of reg:squarederror.\n",
      "[0]\tvalidation_0-rmse:2.08699\tvalidation_1-rmse:2.33282\n",
      "Multiple eval metrics have been passed: 'validation_1-rmse' will be used for early stopping.\n",
      "\n",
      "Will train until validation_1-rmse hasn't improved in 100 rounds.\n",
      "[1]\tvalidation_0-rmse:1.88331\tvalidation_1-rmse:2.12799\n",
      "[2]\tvalidation_0-rmse:1.70033\tvalidation_1-rmse:1.93846\n",
      "[3]\tvalidation_0-rmse:1.53603\tvalidation_1-rmse:1.77188\n",
      "[4]\tvalidation_0-rmse:1.38833\tvalidation_1-rmse:1.62643\n",
      "[5]\tvalidation_0-rmse:1.25766\tvalidation_1-rmse:1.49648\n",
      "[6]\tvalidation_0-rmse:1.13913\tvalidation_1-rmse:1.37275\n",
      "[7]\tvalidation_0-rmse:1.03592\tvalidation_1-rmse:1.27116\n",
      "[8]\tvalidation_0-rmse:0.940793\tvalidation_1-rmse:1.17186\n",
      "[9]\tvalidation_0-rmse:0.855911\tvalidation_1-rmse:1.08348\n",
      "[10]\tvalidation_0-rmse:0.780321\tvalidation_1-rmse:1.00342\n",
      "[11]\tvalidation_0-rmse:0.713227\tvalidation_1-rmse:0.932798\n",
      "[12]\tvalidation_0-rmse:0.653483\tvalidation_1-rmse:0.874691\n",
      "[13]\tvalidation_0-rmse:0.600621\tvalidation_1-rmse:0.822696\n",
      "[14]\tvalidation_0-rmse:0.553408\tvalidation_1-rmse:0.775418\n",
      "[15]\tvalidation_0-rmse:0.51244\tvalidation_1-rmse:0.729882\n",
      "[16]\tvalidation_0-rmse:0.476566\tvalidation_1-rmse:0.690149\n",
      "[17]\tvalidation_0-rmse:0.444797\tvalidation_1-rmse:0.658189\n",
      "[18]\tvalidation_0-rmse:0.417513\tvalidation_1-rmse:0.627394\n",
      "[19]\tvalidation_0-rmse:0.393646\tvalidation_1-rmse:0.599786\n",
      "[20]\tvalidation_0-rmse:0.372082\tvalidation_1-rmse:0.578964\n",
      "[21]\tvalidation_0-rmse:0.353482\tvalidation_1-rmse:0.56097\n",
      "[22]\tvalidation_0-rmse:0.337579\tvalidation_1-rmse:0.541286\n",
      "[23]\tvalidation_0-rmse:0.324503\tvalidation_1-rmse:0.524763\n",
      "[24]\tvalidation_0-rmse:0.3131\tvalidation_1-rmse:0.511435\n",
      "[25]\tvalidation_0-rmse:0.30294\tvalidation_1-rmse:0.497113\n",
      "[26]\tvalidation_0-rmse:0.295017\tvalidation_1-rmse:0.488191\n",
      "[27]\tvalidation_0-rmse:0.287688\tvalidation_1-rmse:0.478239\n",
      "[28]\tvalidation_0-rmse:0.281123\tvalidation_1-rmse:0.470359\n",
      "[29]\tvalidation_0-rmse:0.275096\tvalidation_1-rmse:0.464881\n",
      "[30]\tvalidation_0-rmse:0.270194\tvalidation_1-rmse:0.460203\n",
      "[31]\tvalidation_0-rmse:0.266401\tvalidation_1-rmse:0.455537\n",
      "[32]\tvalidation_0-rmse:0.26241\tvalidation_1-rmse:0.451512\n",
      "[33]\tvalidation_0-rmse:0.259952\tvalidation_1-rmse:0.446368\n",
      "[34]\tvalidation_0-rmse:0.257144\tvalidation_1-rmse:0.441311\n",
      "[35]\tvalidation_0-rmse:0.254649\tvalidation_1-rmse:0.439049\n",
      "[36]\tvalidation_0-rmse:0.2521\tvalidation_1-rmse:0.43564\n",
      "[37]\tvalidation_0-rmse:0.250511\tvalidation_1-rmse:0.434237\n",
      "[38]\tvalidation_0-rmse:0.249384\tvalidation_1-rmse:0.432857\n",
      "[39]\tvalidation_0-rmse:0.247985\tvalidation_1-rmse:0.432352\n",
      "[40]\tvalidation_0-rmse:0.247014\tvalidation_1-rmse:0.430664\n",
      "[41]\tvalidation_0-rmse:0.245987\tvalidation_1-rmse:0.428051\n",
      "[42]\tvalidation_0-rmse:0.244346\tvalidation_1-rmse:0.427593\n",
      "[43]\tvalidation_0-rmse:0.24287\tvalidation_1-rmse:0.429072\n",
      "[44]\tvalidation_0-rmse:0.241883\tvalidation_1-rmse:0.427751\n",
      "[45]\tvalidation_0-rmse:0.240719\tvalidation_1-rmse:0.427953\n",
      "[46]\tvalidation_0-rmse:0.240184\tvalidation_1-rmse:0.426763\n",
      "[47]\tvalidation_0-rmse:0.238747\tvalidation_1-rmse:0.426381\n",
      "[48]\tvalidation_0-rmse:0.237924\tvalidation_1-rmse:0.424447\n",
      "[49]\tvalidation_0-rmse:0.237338\tvalidation_1-rmse:0.425025\n",
      "[50]\tvalidation_0-rmse:0.235932\tvalidation_1-rmse:0.424839\n",
      "[51]\tvalidation_0-rmse:0.235496\tvalidation_1-rmse:0.424243\n",
      "[52]\tvalidation_0-rmse:0.234643\tvalidation_1-rmse:0.424131\n",
      "[53]\tvalidation_0-rmse:0.234268\tvalidation_1-rmse:0.426243\n",
      "[54]\tvalidation_0-rmse:0.233855\tvalidation_1-rmse:0.426771\n",
      "[55]\tvalidation_0-rmse:0.233342\tvalidation_1-rmse:0.426458\n",
      "[56]\tvalidation_0-rmse:0.232653\tvalidation_1-rmse:0.427392\n",
      "[57]\tvalidation_0-rmse:0.232242\tvalidation_1-rmse:0.426845\n",
      "[58]\tvalidation_0-rmse:0.231859\tvalidation_1-rmse:0.425536\n",
      "[59]\tvalidation_0-rmse:0.231719\tvalidation_1-rmse:0.424476\n",
      "[60]\tvalidation_0-rmse:0.230836\tvalidation_1-rmse:0.424605\n",
      "[61]\tvalidation_0-rmse:0.230241\tvalidation_1-rmse:0.424241\n",
      "[62]\tvalidation_0-rmse:0.229973\tvalidation_1-rmse:0.423969\n",
      "[63]\tvalidation_0-rmse:0.229643\tvalidation_1-rmse:0.424314\n",
      "[64]\tvalidation_0-rmse:0.228829\tvalidation_1-rmse:0.424901\n",
      "[65]\tvalidation_0-rmse:0.228395\tvalidation_1-rmse:0.424622\n",
      "[66]\tvalidation_0-rmse:0.22774\tvalidation_1-rmse:0.424466\n",
      "[67]\tvalidation_0-rmse:0.227263\tvalidation_1-rmse:0.424302\n",
      "[68]\tvalidation_0-rmse:0.226542\tvalidation_1-rmse:0.424128\n",
      "[69]\tvalidation_0-rmse:0.226193\tvalidation_1-rmse:0.424393\n",
      "[70]\tvalidation_0-rmse:0.225439\tvalidation_1-rmse:0.424666\n",
      "[71]\tvalidation_0-rmse:0.225038\tvalidation_1-rmse:0.424895\n",
      "[72]\tvalidation_0-rmse:0.224865\tvalidation_1-rmse:0.424799\n",
      "[73]\tvalidation_0-rmse:0.224798\tvalidation_1-rmse:0.424728\n",
      "[74]\tvalidation_0-rmse:0.224421\tvalidation_1-rmse:0.42449\n",
      "[75]\tvalidation_0-rmse:0.224351\tvalidation_1-rmse:0.423682\n",
      "[76]\tvalidation_0-rmse:0.224005\tvalidation_1-rmse:0.42364\n",
      "[77]\tvalidation_0-rmse:0.223815\tvalidation_1-rmse:0.424683\n",
      "[78]\tvalidation_0-rmse:0.223139\tvalidation_1-rmse:0.426202\n",
      "[79]\tvalidation_0-rmse:0.222772\tvalidation_1-rmse:0.425582\n",
      "[80]\tvalidation_0-rmse:0.22256\tvalidation_1-rmse:0.425579\n",
      "[81]\tvalidation_0-rmse:0.222473\tvalidation_1-rmse:0.426871\n",
      "[82]\tvalidation_0-rmse:0.222264\tvalidation_1-rmse:0.42681\n",
      "[83]\tvalidation_0-rmse:0.222093\tvalidation_1-rmse:0.426503\n",
      "[84]\tvalidation_0-rmse:0.221651\tvalidation_1-rmse:0.426652\n",
      "[85]\tvalidation_0-rmse:0.221507\tvalidation_1-rmse:0.426766\n",
      "[86]\tvalidation_0-rmse:0.221223\tvalidation_1-rmse:0.426812\n",
      "[87]\tvalidation_0-rmse:0.220877\tvalidation_1-rmse:0.426947\n",
      "[88]\tvalidation_0-rmse:0.220762\tvalidation_1-rmse:0.427758\n",
      "[89]\tvalidation_0-rmse:0.22055\tvalidation_1-rmse:0.427769\n",
      "[90]\tvalidation_0-rmse:0.220426\tvalidation_1-rmse:0.427719\n",
      "[91]\tvalidation_0-rmse:0.220086\tvalidation_1-rmse:0.428151\n",
      "[92]\tvalidation_0-rmse:0.22001\tvalidation_1-rmse:0.42787\n",
      "[93]\tvalidation_0-rmse:0.219964\tvalidation_1-rmse:0.42777\n",
      "[94]\tvalidation_0-rmse:0.219787\tvalidation_1-rmse:0.428426\n",
      "[95]\tvalidation_0-rmse:0.2194\tvalidation_1-rmse:0.428565\n",
      "[96]\tvalidation_0-rmse:0.219254\tvalidation_1-rmse:0.428335\n",
      "[97]\tvalidation_0-rmse:0.218981\tvalidation_1-rmse:0.428341\n",
      "[98]\tvalidation_0-rmse:0.218924\tvalidation_1-rmse:0.427716\n",
      "[99]\tvalidation_0-rmse:0.218774\tvalidation_1-rmse:0.427567\n",
      "[100]\tvalidation_0-rmse:0.218527\tvalidation_1-rmse:0.42726\n",
      "[101]\tvalidation_0-rmse:0.218418\tvalidation_1-rmse:0.42729\n",
      "[102]\tvalidation_0-rmse:0.217841\tvalidation_1-rmse:0.426926\n",
      "[103]\tvalidation_0-rmse:0.217494\tvalidation_1-rmse:0.427219\n",
      "[104]\tvalidation_0-rmse:0.216917\tvalidation_1-rmse:0.42788\n",
      "[105]\tvalidation_0-rmse:0.216778\tvalidation_1-rmse:0.427468\n",
      "[106]\tvalidation_0-rmse:0.216658\tvalidation_1-rmse:0.427614\n",
      "[107]\tvalidation_0-rmse:0.216532\tvalidation_1-rmse:0.42736\n",
      "[108]\tvalidation_0-rmse:0.216482\tvalidation_1-rmse:0.427356\n",
      "[109]\tvalidation_0-rmse:0.216172\tvalidation_1-rmse:0.426837\n",
      "[110]\tvalidation_0-rmse:0.216044\tvalidation_1-rmse:0.427517\n",
      "[111]\tvalidation_0-rmse:0.216007\tvalidation_1-rmse:0.427589\n",
      "[112]\tvalidation_0-rmse:0.215711\tvalidation_1-rmse:0.427667\n",
      "[113]\tvalidation_0-rmse:0.2156\tvalidation_1-rmse:0.42744\n",
      "[114]\tvalidation_0-rmse:0.215567\tvalidation_1-rmse:0.427593\n",
      "[115]\tvalidation_0-rmse:0.215392\tvalidation_1-rmse:0.427368\n",
      "[116]\tvalidation_0-rmse:0.215182\tvalidation_1-rmse:0.427097\n",
      "[117]\tvalidation_0-rmse:0.214931\tvalidation_1-rmse:0.427301\n",
      "[118]\tvalidation_0-rmse:0.214623\tvalidation_1-rmse:0.427623\n",
      "[119]\tvalidation_0-rmse:0.214483\tvalidation_1-rmse:0.427933\n",
      "[120]\tvalidation_0-rmse:0.213962\tvalidation_1-rmse:0.428148\n",
      "[121]\tvalidation_0-rmse:0.213887\tvalidation_1-rmse:0.428099\n",
      "[122]\tvalidation_0-rmse:0.213719\tvalidation_1-rmse:0.428123\n",
      "[123]\tvalidation_0-rmse:0.213696\tvalidation_1-rmse:0.428169\n",
      "[124]\tvalidation_0-rmse:0.213638\tvalidation_1-rmse:0.42855\n",
      "[125]\tvalidation_0-rmse:0.21343\tvalidation_1-rmse:0.428496\n",
      "[126]\tvalidation_0-rmse:0.213314\tvalidation_1-rmse:0.428835\n",
      "[127]\tvalidation_0-rmse:0.213189\tvalidation_1-rmse:0.429282\n",
      "[128]\tvalidation_0-rmse:0.213072\tvalidation_1-rmse:0.429434\n",
      "[129]\tvalidation_0-rmse:0.212968\tvalidation_1-rmse:0.429237\n",
      "[130]\tvalidation_0-rmse:0.212937\tvalidation_1-rmse:0.430358\n",
      "[131]\tvalidation_0-rmse:0.212689\tvalidation_1-rmse:0.430136\n",
      "[132]\tvalidation_0-rmse:0.212548\tvalidation_1-rmse:0.43012\n",
      "[133]\tvalidation_0-rmse:0.21246\tvalidation_1-rmse:0.429916\n"
     ]
    },
    {
     "name": "stdout",
     "output_type": "stream",
     "text": [
      "[134]\tvalidation_0-rmse:0.212421\tvalidation_1-rmse:0.42999\n",
      "[135]\tvalidation_0-rmse:0.212354\tvalidation_1-rmse:0.430124\n",
      "[136]\tvalidation_0-rmse:0.212235\tvalidation_1-rmse:0.429864\n",
      "[137]\tvalidation_0-rmse:0.211889\tvalidation_1-rmse:0.4306\n",
      "[138]\tvalidation_0-rmse:0.211782\tvalidation_1-rmse:0.430467\n",
      "[139]\tvalidation_0-rmse:0.211463\tvalidation_1-rmse:0.430683\n",
      "[140]\tvalidation_0-rmse:0.211339\tvalidation_1-rmse:0.430789\n",
      "[141]\tvalidation_0-rmse:0.211079\tvalidation_1-rmse:0.431384\n",
      "[142]\tvalidation_0-rmse:0.211035\tvalidation_1-rmse:0.432109\n",
      "[143]\tvalidation_0-rmse:0.210951\tvalidation_1-rmse:0.432009\n",
      "[144]\tvalidation_0-rmse:0.210864\tvalidation_1-rmse:0.430875\n",
      "[145]\tvalidation_0-rmse:0.210805\tvalidation_1-rmse:0.430613\n",
      "[146]\tvalidation_0-rmse:0.210634\tvalidation_1-rmse:0.430826\n",
      "[147]\tvalidation_0-rmse:0.210583\tvalidation_1-rmse:0.43104\n",
      "[148]\tvalidation_0-rmse:0.210532\tvalidation_1-rmse:0.43102\n",
      "[149]\tvalidation_0-rmse:0.210437\tvalidation_1-rmse:0.431043\n",
      "[150]\tvalidation_0-rmse:0.210201\tvalidation_1-rmse:0.431438\n",
      "[151]\tvalidation_0-rmse:0.210174\tvalidation_1-rmse:0.431332\n",
      "[152]\tvalidation_0-rmse:0.209774\tvalidation_1-rmse:0.431479\n",
      "[153]\tvalidation_0-rmse:0.209628\tvalidation_1-rmse:0.431946\n",
      "[154]\tvalidation_0-rmse:0.20959\tvalidation_1-rmse:0.432462\n",
      "[155]\tvalidation_0-rmse:0.209549\tvalidation_1-rmse:0.432506\n",
      "[156]\tvalidation_0-rmse:0.209331\tvalidation_1-rmse:0.432247\n",
      "[157]\tvalidation_0-rmse:0.20919\tvalidation_1-rmse:0.432032\n",
      "[158]\tvalidation_0-rmse:0.209005\tvalidation_1-rmse:0.431763\n",
      "[159]\tvalidation_0-rmse:0.208871\tvalidation_1-rmse:0.431546\n",
      "[160]\tvalidation_0-rmse:0.208802\tvalidation_1-rmse:0.43185\n",
      "[161]\tvalidation_0-rmse:0.208788\tvalidation_1-rmse:0.431037\n",
      "[162]\tvalidation_0-rmse:0.208744\tvalidation_1-rmse:0.431214\n",
      "[163]\tvalidation_0-rmse:0.208574\tvalidation_1-rmse:0.431423\n",
      "[164]\tvalidation_0-rmse:0.208469\tvalidation_1-rmse:0.431719\n",
      "[165]\tvalidation_0-rmse:0.20837\tvalidation_1-rmse:0.431432\n",
      "[166]\tvalidation_0-rmse:0.208305\tvalidation_1-rmse:0.431547\n",
      "[167]\tvalidation_0-rmse:0.208269\tvalidation_1-rmse:0.431559\n",
      "[168]\tvalidation_0-rmse:0.208261\tvalidation_1-rmse:0.430963\n",
      "[169]\tvalidation_0-rmse:0.208059\tvalidation_1-rmse:0.43112\n",
      "[170]\tvalidation_0-rmse:0.207841\tvalidation_1-rmse:0.430507\n",
      "[171]\tvalidation_0-rmse:0.207798\tvalidation_1-rmse:0.430209\n",
      "[172]\tvalidation_0-rmse:0.207626\tvalidation_1-rmse:0.430351\n",
      "[173]\tvalidation_0-rmse:0.20756\tvalidation_1-rmse:0.430226\n",
      "[174]\tvalidation_0-rmse:0.207315\tvalidation_1-rmse:0.429891\n",
      "[175]\tvalidation_0-rmse:0.207158\tvalidation_1-rmse:0.430208\n",
      "[176]\tvalidation_0-rmse:0.207123\tvalidation_1-rmse:0.430211\n",
      "Stopping. Best iteration:\n",
      "[76]\tvalidation_0-rmse:0.224005\tvalidation_1-rmse:0.42364\n",
      "\n"
     ]
    },
    {
     "data": {
      "text/plain": [
       "6.818096160888672"
      ]
     },
     "execution_count": 23,
     "metadata": {},
     "output_type": "execute_result"
    }
   ],
   "source": [
    "ts = time.time()\n",
    "\n",
    "model = XGBRegressor(\n",
    "    max_depth=5,\n",
    "    n_estimators=10000,\n",
    "    min_child_weight=300, \n",
    "    colsample_bytree=0.8, \n",
    "    subsample=0.8, \n",
    "    eta=0.1,    \n",
    "    seed=42)\n",
    "\n",
    "model.fit(\n",
    "    x_train2, \n",
    "    y_train2, \n",
    "    eval_metric=\"rmse\", \n",
    "    eval_set=[(x_train2, y_train2), (x_val2, y_val2)], \n",
    "    verbose=True, \n",
    "    early_stopping_rounds = 100)\n",
    "\n",
    "time.time() - ts"
   ]
  },
  {
   "cell_type": "code",
   "execution_count": 24,
   "metadata": {},
   "outputs": [
    {
     "data": {
      "text/plain": [
       "10.154749846011294"
      ]
     },
     "execution_count": 24,
     "metadata": {},
     "output_type": "execute_result"
    }
   ],
   "source": [
    "pred=model.predict(x_val2)\n",
    "sqrt(mean_squared_error(np.expm1(y_val2), np.expm1(pred)))"
   ]
  },
  {
   "cell_type": "markdown",
   "metadata": {},
   "source": [
    "# Validating with validation set 3."
   ]
  },
  {
   "cell_type": "code",
   "execution_count": 25,
   "metadata": {},
   "outputs": [
    {
     "name": "stdout",
     "output_type": "stream",
     "text": [
      "[10:27:43] WARNING: C:/Jenkins/workspace/xgboost-win64_release_0.90/src/objective/regression_obj.cu:152: reg:linear is now deprecated in favor of reg:squarederror.\n",
      "[0]\tvalidation_0-rmse:2.25771\tvalidation_1-rmse:2.33069\n",
      "Multiple eval metrics have been passed: 'validation_1-rmse' will be used for early stopping.\n",
      "\n",
      "Will train until validation_1-rmse hasn't improved in 100 rounds.\n",
      "[1]\tvalidation_0-rmse:2.03682\tvalidation_1-rmse:2.12439\n",
      "[2]\tvalidation_0-rmse:1.83835\tvalidation_1-rmse:1.93799\n",
      "[3]\tvalidation_0-rmse:1.66026\tvalidation_1-rmse:1.76958\n",
      "[4]\tvalidation_0-rmse:1.50038\tvalidation_1-rmse:1.61703\n",
      "[5]\tvalidation_0-rmse:1.3569\tvalidation_1-rmse:1.4803\n",
      "[6]\tvalidation_0-rmse:1.22949\tvalidation_1-rmse:1.35843\n",
      "[7]\tvalidation_0-rmse:1.11428\tvalidation_1-rmse:1.24897\n",
      "[8]\tvalidation_0-rmse:1.0108\tvalidation_1-rmse:1.15116\n",
      "[9]\tvalidation_0-rmse:0.918522\tvalidation_1-rmse:1.06356\n",
      "[10]\tvalidation_0-rmse:0.836117\tvalidation_1-rmse:0.977442\n",
      "[11]\tvalidation_0-rmse:0.763453\tvalidation_1-rmse:0.91373\n",
      "[12]\tvalidation_0-rmse:0.70209\tvalidation_1-rmse:0.852223\n",
      "[13]\tvalidation_0-rmse:0.64343\tvalidation_1-rmse:0.795426\n",
      "[14]\tvalidation_0-rmse:0.590773\tvalidation_1-rmse:0.743431\n",
      "[15]\tvalidation_0-rmse:0.545641\tvalidation_1-rmse:0.704601\n",
      "[16]\tvalidation_0-rmse:0.505675\tvalidation_1-rmse:0.666837\n",
      "[17]\tvalidation_0-rmse:0.469661\tvalidation_1-rmse:0.628048\n",
      "[18]\tvalidation_0-rmse:0.440856\tvalidation_1-rmse:0.60039\n",
      "[19]\tvalidation_0-rmse:0.413842\tvalidation_1-rmse:0.577373\n",
      "[20]\tvalidation_0-rmse:0.389762\tvalidation_1-rmse:0.552588\n",
      "[21]\tvalidation_0-rmse:0.36886\tvalidation_1-rmse:0.528034\n",
      "[22]\tvalidation_0-rmse:0.351753\tvalidation_1-rmse:0.511167\n",
      "[23]\tvalidation_0-rmse:0.336571\tvalidation_1-rmse:0.495354\n",
      "[24]\tvalidation_0-rmse:0.323082\tvalidation_1-rmse:0.484336\n",
      "[25]\tvalidation_0-rmse:0.311034\tvalidation_1-rmse:0.471562\n",
      "[26]\tvalidation_0-rmse:0.301134\tvalidation_1-rmse:0.458631\n",
      "[27]\tvalidation_0-rmse:0.292479\tvalidation_1-rmse:0.448083\n",
      "[28]\tvalidation_0-rmse:0.285699\tvalidation_1-rmse:0.442078\n",
      "[29]\tvalidation_0-rmse:0.279858\tvalidation_1-rmse:0.432368\n",
      "[30]\tvalidation_0-rmse:0.274398\tvalidation_1-rmse:0.425545\n",
      "[31]\tvalidation_0-rmse:0.269536\tvalidation_1-rmse:0.42142\n",
      "[32]\tvalidation_0-rmse:0.265619\tvalidation_1-rmse:0.415124\n",
      "[33]\tvalidation_0-rmse:0.26259\tvalidation_1-rmse:0.40981\n",
      "[34]\tvalidation_0-rmse:0.259409\tvalidation_1-rmse:0.405441\n",
      "[35]\tvalidation_0-rmse:0.256916\tvalidation_1-rmse:0.400992\n",
      "[36]\tvalidation_0-rmse:0.254851\tvalidation_1-rmse:0.400609\n",
      "[37]\tvalidation_0-rmse:0.253064\tvalidation_1-rmse:0.397368\n",
      "[38]\tvalidation_0-rmse:0.25133\tvalidation_1-rmse:0.394208\n",
      "[39]\tvalidation_0-rmse:0.250057\tvalidation_1-rmse:0.392077\n",
      "[40]\tvalidation_0-rmse:0.248488\tvalidation_1-rmse:0.390491\n",
      "[41]\tvalidation_0-rmse:0.247525\tvalidation_1-rmse:0.388328\n",
      "[42]\tvalidation_0-rmse:0.246519\tvalidation_1-rmse:0.390025\n",
      "[43]\tvalidation_0-rmse:0.244586\tvalidation_1-rmse:0.389479\n",
      "[44]\tvalidation_0-rmse:0.243918\tvalidation_1-rmse:0.387727\n",
      "[45]\tvalidation_0-rmse:0.243325\tvalidation_1-rmse:0.388097\n",
      "[46]\tvalidation_0-rmse:0.242368\tvalidation_1-rmse:0.38733\n",
      "[47]\tvalidation_0-rmse:0.241006\tvalidation_1-rmse:0.387353\n",
      "[48]\tvalidation_0-rmse:0.239512\tvalidation_1-rmse:0.390878\n",
      "[49]\tvalidation_0-rmse:0.23902\tvalidation_1-rmse:0.390263\n",
      "[50]\tvalidation_0-rmse:0.238318\tvalidation_1-rmse:0.388839\n",
      "[51]\tvalidation_0-rmse:0.237858\tvalidation_1-rmse:0.388281\n",
      "[52]\tvalidation_0-rmse:0.237463\tvalidation_1-rmse:0.387605\n",
      "[53]\tvalidation_0-rmse:0.236774\tvalidation_1-rmse:0.391258\n",
      "[54]\tvalidation_0-rmse:0.236452\tvalidation_1-rmse:0.390531\n",
      "[55]\tvalidation_0-rmse:0.235679\tvalidation_1-rmse:0.390652\n",
      "[56]\tvalidation_0-rmse:0.235232\tvalidation_1-rmse:0.389894\n",
      "[57]\tvalidation_0-rmse:0.234616\tvalidation_1-rmse:0.392909\n",
      "[58]\tvalidation_0-rmse:0.234295\tvalidation_1-rmse:0.392401\n",
      "[59]\tvalidation_0-rmse:0.233868\tvalidation_1-rmse:0.392216\n",
      "[60]\tvalidation_0-rmse:0.23342\tvalidation_1-rmse:0.396492\n",
      "[61]\tvalidation_0-rmse:0.232357\tvalidation_1-rmse:0.398219\n",
      "[62]\tvalidation_0-rmse:0.231816\tvalidation_1-rmse:0.397923\n",
      "[63]\tvalidation_0-rmse:0.231487\tvalidation_1-rmse:0.398048\n",
      "[64]\tvalidation_0-rmse:0.230885\tvalidation_1-rmse:0.399228\n",
      "[65]\tvalidation_0-rmse:0.230488\tvalidation_1-rmse:0.399103\n",
      "[66]\tvalidation_0-rmse:0.229764\tvalidation_1-rmse:0.399984\n",
      "[67]\tvalidation_0-rmse:0.229281\tvalidation_1-rmse:0.400764\n",
      "[68]\tvalidation_0-rmse:0.228936\tvalidation_1-rmse:0.400339\n",
      "[69]\tvalidation_0-rmse:0.228853\tvalidation_1-rmse:0.400206\n",
      "[70]\tvalidation_0-rmse:0.228567\tvalidation_1-rmse:0.400077\n",
      "[71]\tvalidation_0-rmse:0.228287\tvalidation_1-rmse:0.39998\n",
      "[72]\tvalidation_0-rmse:0.228002\tvalidation_1-rmse:0.399963\n",
      "[73]\tvalidation_0-rmse:0.227932\tvalidation_1-rmse:0.399943\n",
      "[74]\tvalidation_0-rmse:0.227108\tvalidation_1-rmse:0.39952\n",
      "[75]\tvalidation_0-rmse:0.226737\tvalidation_1-rmse:0.402115\n",
      "[76]\tvalidation_0-rmse:0.226426\tvalidation_1-rmse:0.402673\n",
      "[77]\tvalidation_0-rmse:0.226259\tvalidation_1-rmse:0.402208\n",
      "[78]\tvalidation_0-rmse:0.226039\tvalidation_1-rmse:0.402458\n",
      "[79]\tvalidation_0-rmse:0.225897\tvalidation_1-rmse:0.402352\n",
      "[80]\tvalidation_0-rmse:0.225535\tvalidation_1-rmse:0.402404\n",
      "[81]\tvalidation_0-rmse:0.225384\tvalidation_1-rmse:0.402441\n",
      "[82]\tvalidation_0-rmse:0.225075\tvalidation_1-rmse:0.402553\n",
      "[83]\tvalidation_0-rmse:0.224694\tvalidation_1-rmse:0.402444\n",
      "[84]\tvalidation_0-rmse:0.224379\tvalidation_1-rmse:0.400605\n",
      "[85]\tvalidation_0-rmse:0.224133\tvalidation_1-rmse:0.400336\n",
      "[86]\tvalidation_0-rmse:0.223968\tvalidation_1-rmse:0.400161\n",
      "[87]\tvalidation_0-rmse:0.223859\tvalidation_1-rmse:0.400347\n",
      "[88]\tvalidation_0-rmse:0.223549\tvalidation_1-rmse:0.400466\n",
      "[89]\tvalidation_0-rmse:0.223449\tvalidation_1-rmse:0.398934\n",
      "[90]\tvalidation_0-rmse:0.223179\tvalidation_1-rmse:0.398782\n",
      "[91]\tvalidation_0-rmse:0.222991\tvalidation_1-rmse:0.398548\n",
      "[92]\tvalidation_0-rmse:0.222443\tvalidation_1-rmse:0.399565\n",
      "[93]\tvalidation_0-rmse:0.22212\tvalidation_1-rmse:0.399699\n",
      "[94]\tvalidation_0-rmse:0.221891\tvalidation_1-rmse:0.400237\n",
      "[95]\tvalidation_0-rmse:0.221615\tvalidation_1-rmse:0.400569\n",
      "[96]\tvalidation_0-rmse:0.221524\tvalidation_1-rmse:0.400665\n",
      "[97]\tvalidation_0-rmse:0.221191\tvalidation_1-rmse:0.401032\n",
      "[98]\tvalidation_0-rmse:0.220982\tvalidation_1-rmse:0.400809\n",
      "[99]\tvalidation_0-rmse:0.220867\tvalidation_1-rmse:0.401418\n",
      "[100]\tvalidation_0-rmse:0.220785\tvalidation_1-rmse:0.401306\n",
      "[101]\tvalidation_0-rmse:0.220501\tvalidation_1-rmse:0.401043\n",
      "[102]\tvalidation_0-rmse:0.220279\tvalidation_1-rmse:0.402836\n",
      "[103]\tvalidation_0-rmse:0.220099\tvalidation_1-rmse:0.402823\n",
      "[104]\tvalidation_0-rmse:0.219894\tvalidation_1-rmse:0.402993\n",
      "[105]\tvalidation_0-rmse:0.219686\tvalidation_1-rmse:0.403038\n",
      "[106]\tvalidation_0-rmse:0.219541\tvalidation_1-rmse:0.403088\n",
      "[107]\tvalidation_0-rmse:0.219212\tvalidation_1-rmse:0.403031\n",
      "[108]\tvalidation_0-rmse:0.21897\tvalidation_1-rmse:0.402357\n",
      "[109]\tvalidation_0-rmse:0.21884\tvalidation_1-rmse:0.402749\n",
      "[110]\tvalidation_0-rmse:0.218491\tvalidation_1-rmse:0.402662\n",
      "[111]\tvalidation_0-rmse:0.218462\tvalidation_1-rmse:0.403897\n",
      "[112]\tvalidation_0-rmse:0.218391\tvalidation_1-rmse:0.40387\n",
      "[113]\tvalidation_0-rmse:0.218302\tvalidation_1-rmse:0.403838\n",
      "[114]\tvalidation_0-rmse:0.217825\tvalidation_1-rmse:0.403451\n",
      "[115]\tvalidation_0-rmse:0.217711\tvalidation_1-rmse:0.403515\n",
      "[116]\tvalidation_0-rmse:0.217546\tvalidation_1-rmse:0.403427\n",
      "[117]\tvalidation_0-rmse:0.217179\tvalidation_1-rmse:0.405559\n",
      "[118]\tvalidation_0-rmse:0.217005\tvalidation_1-rmse:0.407249\n",
      "[119]\tvalidation_0-rmse:0.216946\tvalidation_1-rmse:0.407302\n",
      "[120]\tvalidation_0-rmse:0.216839\tvalidation_1-rmse:0.407239\n",
      "[121]\tvalidation_0-rmse:0.216618\tvalidation_1-rmse:0.406758\n",
      "[122]\tvalidation_0-rmse:0.216425\tvalidation_1-rmse:0.406742\n",
      "[123]\tvalidation_0-rmse:0.216244\tvalidation_1-rmse:0.406718\n",
      "[124]\tvalidation_0-rmse:0.215867\tvalidation_1-rmse:0.406772\n",
      "[125]\tvalidation_0-rmse:0.215759\tvalidation_1-rmse:0.406689\n",
      "[126]\tvalidation_0-rmse:0.215531\tvalidation_1-rmse:0.406756\n",
      "[127]\tvalidation_0-rmse:0.215509\tvalidation_1-rmse:0.405714\n",
      "[128]\tvalidation_0-rmse:0.215385\tvalidation_1-rmse:0.406086\n",
      "[129]\tvalidation_0-rmse:0.215299\tvalidation_1-rmse:0.406209\n",
      "[130]\tvalidation_0-rmse:0.215196\tvalidation_1-rmse:0.406283\n",
      "[131]\tvalidation_0-rmse:0.21504\tvalidation_1-rmse:0.406124\n",
      "[132]\tvalidation_0-rmse:0.214912\tvalidation_1-rmse:0.406271\n",
      "[133]\tvalidation_0-rmse:0.21483\tvalidation_1-rmse:0.40626\n"
     ]
    },
    {
     "name": "stdout",
     "output_type": "stream",
     "text": [
      "[134]\tvalidation_0-rmse:0.214612\tvalidation_1-rmse:0.406355\n",
      "[135]\tvalidation_0-rmse:0.214569\tvalidation_1-rmse:0.406361\n",
      "[136]\tvalidation_0-rmse:0.214553\tvalidation_1-rmse:0.406434\n",
      "[137]\tvalidation_0-rmse:0.214504\tvalidation_1-rmse:0.405996\n",
      "[138]\tvalidation_0-rmse:0.214313\tvalidation_1-rmse:0.405687\n",
      "[139]\tvalidation_0-rmse:0.21419\tvalidation_1-rmse:0.405605\n",
      "[140]\tvalidation_0-rmse:0.21406\tvalidation_1-rmse:0.405603\n",
      "[141]\tvalidation_0-rmse:0.213972\tvalidation_1-rmse:0.405692\n",
      "[142]\tvalidation_0-rmse:0.213951\tvalidation_1-rmse:0.407166\n",
      "[143]\tvalidation_0-rmse:0.21383\tvalidation_1-rmse:0.407045\n",
      "[144]\tvalidation_0-rmse:0.213786\tvalidation_1-rmse:0.406917\n",
      "[145]\tvalidation_0-rmse:0.213761\tvalidation_1-rmse:0.406892\n",
      "[146]\tvalidation_0-rmse:0.213731\tvalidation_1-rmse:0.406883\n",
      "Stopping. Best iteration:\n",
      "[46]\tvalidation_0-rmse:0.242368\tvalidation_1-rmse:0.38733\n",
      "\n"
     ]
    },
    {
     "data": {
      "text/plain": [
       "12.159100770950317"
      ]
     },
     "execution_count": 25,
     "metadata": {},
     "output_type": "execute_result"
    }
   ],
   "source": [
    "ts = time.time()\n",
    "\n",
    "model = XGBRegressor(\n",
    "    max_depth=5,\n",
    "    n_estimators=10000,\n",
    "    min_child_weight=300, \n",
    "    colsample_bytree=0.8, \n",
    "    subsample=0.8, \n",
    "    eta=0.1,    \n",
    "    seed=42)\n",
    "\n",
    "model.fit(\n",
    "    x_train3, \n",
    "    y_train3, \n",
    "    eval_metric=\"rmse\", \n",
    "    eval_set=[(x_train3, y_train3), (x_val3, y_val3)], \n",
    "    verbose=True, \n",
    "    early_stopping_rounds = 100)\n",
    "\n",
    "time.time() - ts"
   ]
  },
  {
   "cell_type": "code",
   "execution_count": 26,
   "metadata": {},
   "outputs": [
    {
     "data": {
      "text/plain": [
       "9.956710367699454"
      ]
     },
     "execution_count": 26,
     "metadata": {},
     "output_type": "execute_result"
    }
   ],
   "source": [
    "pred=model.predict(x_val3)\n",
    "sqrt(mean_squared_error(np.expm1(y_val3), np.expm1(pred)))"
   ]
  },
  {
   "cell_type": "markdown",
   "metadata": {},
   "source": [
    "#  Model using all train data (except 2015)"
   ]
  },
  {
   "cell_type": "code",
   "execution_count": 27,
   "metadata": {},
   "outputs": [],
   "source": [
    "x=train.drop(columns={#'DateTime',\n",
    "    'ID','Vehicles'},axis=1)\n",
    "y=train.loc[:,['Vehicles']]\n",
    "test=test.drop(columns={#'DateTime',\n",
    "    'ID','Vehicles'},axis=1)"
   ]
  },
  {
   "cell_type": "code",
   "execution_count": 28,
   "metadata": {},
   "outputs": [
    {
     "name": "stdout",
     "output_type": "stream",
     "text": [
      "[10:27:56] WARNING: C:/Jenkins/workspace/xgboost-win64_release_0.90/src/objective/regression_obj.cu:152: reg:linear is now deprecated in favor of reg:squarederror.\n"
     ]
    },
    {
     "data": {
      "text/plain": [
       "XGBRegressor(base_score=0.5, booster='gbtree', colsample_bylevel=1,\n",
       "             colsample_bynode=1, colsample_bytree=0.8, eta=0.3, gamma=0,\n",
       "             importance_type='gain', learning_rate=0.1, max_delta_step=0,\n",
       "             max_depth=8, min_child_weight=300, missing=None, n_estimators=220,\n",
       "             n_jobs=1, nthread=None, objective='reg:linear', random_state=0,\n",
       "             reg_alpha=0, reg_lambda=1, scale_pos_weight=1, seed=42,\n",
       "             silent=None, subsample=0.8, verbosity=1)"
      ]
     },
     "execution_count": 28,
     "metadata": {},
     "output_type": "execute_result"
    }
   ],
   "source": [
    "model = XGBRegressor(\n",
    "    max_depth=8,\n",
    "    n_estimators=220,\n",
    "    min_child_weight=300, \n",
    "    colsample_bytree=0.8, \n",
    "    subsample=0.8, \n",
    "    eta=0.3,\n",
    "    \n",
    "    seed=42)\n",
    "\n",
    "model.fit(\n",
    "    x, \n",
    "    y)\n"
   ]
  },
  {
   "cell_type": "code",
   "execution_count": 29,
   "metadata": {},
   "outputs": [],
   "source": [
    "pred=model.predict(test)\n",
    "sub['Vehicles']=np.expm1(pred)\n",
    "sub.to_csv('finalsub.csv',index=False)"
   ]
  },
  {
   "cell_type": "code",
   "execution_count": 30,
   "metadata": {},
   "outputs": [],
   "source": [
    "# we saved up a couple of steps which gave us further boost, this solution should help to be in top10 ,i will write a detaild kernel in kaggle about the leftout steps."
   ]
  },
  {
   "cell_type": "code",
   "execution_count": null,
   "metadata": {},
   "outputs": [],
   "source": []
  }
 ],
 "metadata": {
  "kernelspec": {
   "display_name": "Python 3",
   "language": "python",
   "name": "python3"
  },
  "language_info": {
   "codemirror_mode": {
    "name": "ipython",
    "version": 3
   },
   "file_extension": ".py",
   "mimetype": "text/x-python",
   "name": "python",
   "nbconvert_exporter": "python",
   "pygments_lexer": "ipython3",
   "version": "3.7.3"
  }
 },
 "nbformat": 4,
 "nbformat_minor": 4
}
